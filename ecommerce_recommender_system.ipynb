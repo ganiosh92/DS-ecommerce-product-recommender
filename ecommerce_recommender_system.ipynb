{
  "nbformat": 4,
  "nbformat_minor": 0,
  "metadata": {
    "colab": {
      "provenance": []
    },
    "kernelspec": {
      "name": "python3",
      "display_name": "Python 3"
    },
    "language_info": {
      "name": "python"
    }
  },
  "cells": [
    {
      "cell_type": "markdown",
      "source": [
        "#Import all libraries"
      ],
      "metadata": {
        "id": "8ilunBjU5ys8"
      }
    },
    {
      "cell_type": "code",
      "execution_count": 12,
      "metadata": {
        "id": "sikbuSum5TQH"
      },
      "outputs": [],
      "source": [
        "import pandas as pd\n",
        "import numpy as np\n",
        "import seaborn as sns\n",
        "from matplotlib import pyplot as plt\n",
        "import os\n",
        "!pip install opendatasets -q\n",
        "import opendatasets as od"
      ]
    },
    {
      "cell_type": "code",
      "source": [
        "#Check if dataset is present. if not download\n",
        "if 'amazon-product-reviews' not in os.listdir():\n",
        "  od.download('https://www.kaggle.com/datasets/irvifa/amazon-product-reviews')"
      ],
      "metadata": {
        "id": "MjoBPDzu5XdD",
        "colab": {
          "base_uri": "https://localhost:8080/"
        },
        "outputId": "17bb434d-5168-4686-9ddf-48f1136d2093"
      },
      "execution_count": 14,
      "outputs": [
        {
          "output_type": "stream",
          "name": "stdout",
          "text": [
            "Please provide your Kaggle credentials to download this dataset. Learn more: http://bit.ly/kaggle-creds\n",
            "Your Kaggle username: ganiosh93\n",
            "Your Kaggle Key: ··········\n",
            "Downloading amazon-product-reviews.zip to ./amazon-product-reviews\n"
          ]
        },
        {
          "output_type": "stream",
          "name": "stderr",
          "text": [
            "100%|██████████| 109M/109M [00:01<00:00, 107MB/s]  \n"
          ]
        },
        {
          "output_type": "stream",
          "name": "stdout",
          "text": [
            "\n"
          ]
        }
      ]
    },
    {
      "cell_type": "code",
      "source": [],
      "metadata": {
        "id": "1CU3gm9_-eKm"
      },
      "execution_count": null,
      "outputs": []
    }
  ]
}